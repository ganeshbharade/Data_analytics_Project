{
 "cells": [
  {
   "cell_type": "markdown",
   "id": "39f9938e",
   "metadata": {},
   "source": [
    "# Global Superstore project\n"
   ]
  },
  {
   "cell_type": "raw",
   "id": "e4308b14",
   "metadata": {},
   "source": [
    "Project Introduction:\n",
    "The Global Super Store dataset contains transactional data of a retail store, including sales, customer details, product information, and more. This project aims to analyze the data to uncover key insights and trends."
   ]
  },
  {
   "cell_type": "raw",
   "id": "039b7df9",
   "metadata": {},
   "source": [
    "Objectives:\n",
    "\n",
    "Identify top-selling products and categories.\n",
    "Analyze sales performance across different regions and time periods.\n",
    "Understand customer purchasing behavior."
   ]
  },
  {
   "cell_type": "raw",
   "id": "af376926",
   "metadata": {},
   "source": [
    "Summary of Findings from Initial Analysis:\n",
    "\n",
    "Data Exploration\n",
    "Missing Values: The Postal Code column has a significant number of missing values.\n",
    "\n",
    "Basic Statistics:\n",
    "Average sales amount: $246.49\n",
    "Maximum sales amount: $22,638.48\n",
    "Average quantity ordered: 3.48\n",
    "Average discount: 0.14\n",
    "Average profit: $28.61\n",
    "Average shipping cost: $26.48\n",
    "Key Insights from SQL Queries\n",
    "Top-Selling Products:\n",
    "\n",
    "The top product is \"Apple Smart Phone Full Size\" with total sales of $86,935.79.\n",
    "Sales Performance by Region:\n",
    "\n",
    "The region with the highest sales is \"Western Europe\" with total sales of $1,731,930.39.\n",
    "Monthly Sales Trends:\n",
    "\n",
    "The highest sales were in December 2015, with total sales of $503,143.77.\n",
    "Customer Purchasing Behavior:\n",
    "\n",
    "The top customer by total sales is \"Tom Ashbrook\" with 80 orders and total sales of $40,488.09."
   ]
  },
  {
   "cell_type": "code",
   "execution_count": 46,
   "id": "786d685b",
   "metadata": {},
   "outputs": [],
   "source": [
    "# import ptyhon Modules \n",
    "import numpy as np\n",
    "import pandas as pd\n",
    "import matplotlib.pyplot as plt\n",
    "import seaborn as sns "
   ]
  },
  {
   "cell_type": "code",
   "execution_count": 4,
   "id": "e51bf32b",
   "metadata": {},
   "outputs": [],
   "source": [
    "# Load the Data - Global Superstore project \n",
    "dataset = pd.read_csv(\"C:\\\\Users\\\\ganes\\\\Downloads\\\\global_superstore.csv\")"
   ]
  },
  {
   "cell_type": "code",
   "execution_count": 5,
   "id": "f231ea2b",
   "metadata": {},
   "outputs": [],
   "source": [
    "# create data frame\n",
    "data = pd.DataFrame(dataset)"
   ]
  },
  {
   "cell_type": "markdown",
   "id": "e8f33162",
   "metadata": {},
   "source": [
    "Data exploration : "
   ]
  },
  {
   "cell_type": "code",
   "execution_count": 6,
   "id": "14d85ead",
   "metadata": {},
   "outputs": [
    {
     "data": {
      "text/plain": [
       "(51290, 24)"
      ]
     },
     "execution_count": 6,
     "metadata": {},
     "output_type": "execute_result"
    }
   ],
   "source": [
    "# check no of rows and columns \n",
    "data.shape"
   ]
  },
  {
   "cell_type": "code",
   "execution_count": 7,
   "id": "7afc72cc",
   "metadata": {},
   "outputs": [
    {
     "data": {
      "text/plain": [
       "Index(['Row ID', 'Order ID', 'Order Date', 'Ship Date', 'Ship Mode',\n",
       "       'Customer ID', 'Customer Name', 'Segment', 'Postal Code', 'City',\n",
       "       'State', 'Country', 'Region', 'Market', 'Product ID', 'Category',\n",
       "       'Sub-Category', 'Product Name', 'Sales', 'Quantity', 'Discount',\n",
       "       'Profit', 'Shipping Cost', 'Order Priority'],\n",
       "      dtype='object')"
      ]
     },
     "execution_count": 7,
     "metadata": {},
     "output_type": "execute_result"
    }
   ],
   "source": [
    "# check names of columns \n",
    "data.columns"
   ]
  },
  {
   "cell_type": "code",
   "execution_count": 11,
   "id": "16cd6f40",
   "metadata": {},
   "outputs": [
    {
     "data": {
      "text/plain": [
       "RangeIndex(start=0, stop=51290, step=1)"
      ]
     },
     "execution_count": 11,
     "metadata": {},
     "output_type": "execute_result"
    }
   ],
   "source": [
    "# check for index \n",
    "data.index"
   ]
  },
  {
   "cell_type": "code",
   "execution_count": 14,
   "id": "0d13c9e1",
   "metadata": {},
   "outputs": [
    {
     "name": "stdout",
     "output_type": "stream",
     "text": [
      "<class 'pandas.core.frame.DataFrame'>\n",
      "RangeIndex: 51290 entries, 0 to 51289\n",
      "Data columns (total 24 columns):\n",
      " #   Column          Non-Null Count  Dtype  \n",
      "---  ------          --------------  -----  \n",
      " 0   Row ID          51290 non-null  int64  \n",
      " 1   Order ID        51290 non-null  object \n",
      " 2   Order Date      51290 non-null  object \n",
      " 3   Ship Date       51290 non-null  object \n",
      " 4   Ship Mode       51290 non-null  object \n",
      " 5   Customer ID     51290 non-null  object \n",
      " 6   Customer Name   51290 non-null  object \n",
      " 7   Segment         51290 non-null  object \n",
      " 8   Postal Code     9994 non-null   float64\n",
      " 9   City            51290 non-null  object \n",
      " 10  State           51290 non-null  object \n",
      " 11  Country         51290 non-null  object \n",
      " 12  Region          51290 non-null  object \n",
      " 13  Market          51290 non-null  object \n",
      " 14  Product ID      51290 non-null  object \n",
      " 15  Category        51290 non-null  object \n",
      " 16  Sub-Category    51290 non-null  object \n",
      " 17  Product Name    51290 non-null  object \n",
      " 18  Sales           51290 non-null  float64\n",
      " 19  Quantity        51290 non-null  int64  \n",
      " 20  Discount        51290 non-null  float64\n",
      " 21  Profit          51290 non-null  float64\n",
      " 22  Shipping Cost   51290 non-null  float64\n",
      " 23  Order Priority  51290 non-null  object \n",
      "dtypes: float64(5), int64(2), object(17)\n",
      "memory usage: 9.4+ MB\n"
     ]
    }
   ],
   "source": [
    "# check information of data like count of values in each column and it's data type\n",
    "data.info()"
   ]
  },
  {
   "cell_type": "markdown",
   "id": "6a88edaf",
   "metadata": {},
   "source": [
    "Cleaning Data :"
   ]
  },
  {
   "cell_type": "code",
   "execution_count": 55,
   "id": "5c0526e5",
   "metadata": {},
   "outputs": [],
   "source": [
    "# let's change data type as per data:  Data Type Conversion:\n",
    "data['Order Date'] = pd.to_datetime(data['Order Date'])\n",
    "data['Ship Date'] = pd.to_datetime(data['Ship Date'])"
   ]
  },
  {
   "cell_type": "code",
   "execution_count": 27,
   "id": "9a4d3321",
   "metadata": {},
   "outputs": [
    {
     "data": {
      "text/plain": [
       "Row ID            51290\n",
       "Order ID          51290\n",
       "Order Date        51290\n",
       "Ship Date         51290\n",
       "Ship Mode         51290\n",
       "Customer ID       51290\n",
       "Customer Name     51290\n",
       "Segment           51290\n",
       "Postal Code        9994\n",
       "City              51290\n",
       "State             51290\n",
       "Country           51290\n",
       "Region            51290\n",
       "Market            51290\n",
       "Product ID        51290\n",
       "Category          51290\n",
       "Sub-Category      51290\n",
       "Product Name      51290\n",
       "Sales             51290\n",
       "Quantity          51290\n",
       "Discount          51290\n",
       "Profit            51290\n",
       "Shipping Cost     51290\n",
       "Order Priority    51290\n",
       "dtype: int64"
      ]
     },
     "execution_count": 27,
     "metadata": {},
     "output_type": "execute_result"
    }
   ],
   "source": [
    "# check for unique values\n",
    "data.count()"
   ]
  },
  {
   "cell_type": "code",
   "execution_count": 29,
   "id": "ab4075d3",
   "metadata": {},
   "outputs": [],
   "source": [
    "# Handling Missing Values: drop column postal code\n",
    "data.drop(['Postal Code'], axis = 1, inplace = True, )"
   ]
  },
  {
   "cell_type": "code",
   "execution_count": 32,
   "id": "b9e19f39",
   "metadata": {},
   "outputs": [
    {
     "data": {
      "text/plain": [
       "Row ID            0\n",
       "Order ID          0\n",
       "Order Date        0\n",
       "Ship Date         0\n",
       "Ship Mode         0\n",
       "Customer ID       0\n",
       "Customer Name     0\n",
       "Segment           0\n",
       "City              0\n",
       "State             0\n",
       "Country           0\n",
       "Region            0\n",
       "Market            0\n",
       "Product ID        0\n",
       "Category          0\n",
       "Sub-Category      0\n",
       "Product Name      0\n",
       "Sales             0\n",
       "Quantity          0\n",
       "Discount          0\n",
       "Profit            0\n",
       "Shipping Cost     0\n",
       "Order Priority    0\n",
       "dtype: int64"
      ]
     },
     "execution_count": 32,
     "metadata": {},
     "output_type": "execute_result"
    }
   ],
   "source": [
    "# check for null values:\n",
    "data.isnull().sum()"
   ]
  },
  {
   "cell_type": "markdown",
   "id": "7ab93739",
   "metadata": {},
   "source": [
    "<h2> Analyze data using sql : </h2>"
   ]
  },
  {
   "cell_type": "markdown",
   "id": "0f99cb3d",
   "metadata": {},
   "source": [
    "pip install  pandasql \n"
   ]
  },
  {
   "cell_type": "code",
   "execution_count": 22,
   "id": "aa5d7d41",
   "metadata": {},
   "outputs": [
    {
     "data": {
      "text/html": [
       "<div>\n",
       "<style scoped>\n",
       "    .dataframe tbody tr th:only-of-type {\n",
       "        vertical-align: middle;\n",
       "    }\n",
       "\n",
       "    .dataframe tbody tr th {\n",
       "        vertical-align: top;\n",
       "    }\n",
       "\n",
       "    .dataframe thead th {\n",
       "        text-align: right;\n",
       "    }\n",
       "</style>\n",
       "<table border=\"1\" class=\"dataframe\">\n",
       "  <thead>\n",
       "    <tr style=\"text-align: right;\">\n",
       "      <th></th>\n",
       "      <th>Row ID</th>\n",
       "      <th>Order ID</th>\n",
       "      <th>Order Date</th>\n",
       "      <th>Ship Date</th>\n",
       "      <th>Ship Mode</th>\n",
       "      <th>Customer ID</th>\n",
       "      <th>Customer Name</th>\n",
       "      <th>Segment</th>\n",
       "      <th>Postal Code</th>\n",
       "      <th>City</th>\n",
       "      <th>...</th>\n",
       "      <th>Product ID</th>\n",
       "      <th>Category</th>\n",
       "      <th>Sub-Category</th>\n",
       "      <th>Product Name</th>\n",
       "      <th>Sales</th>\n",
       "      <th>Quantity</th>\n",
       "      <th>Discount</th>\n",
       "      <th>Profit</th>\n",
       "      <th>Shipping Cost</th>\n",
       "      <th>Order Priority</th>\n",
       "    </tr>\n",
       "  </thead>\n",
       "  <tbody>\n",
       "    <tr>\n",
       "      <th>0</th>\n",
       "      <td>40098</td>\n",
       "      <td>CA-2014-AB10015140-41954</td>\n",
       "      <td>11-11-2014</td>\n",
       "      <td>11-13-2014</td>\n",
       "      <td>First Class</td>\n",
       "      <td>AB-100151402</td>\n",
       "      <td>Aaron Bergman</td>\n",
       "      <td>Consumer</td>\n",
       "      <td>73120.0</td>\n",
       "      <td>Oklahoma City</td>\n",
       "      <td>...</td>\n",
       "      <td>TEC-PH-5816</td>\n",
       "      <td>Technology</td>\n",
       "      <td>Phones</td>\n",
       "      <td>Samsung Convoy 3</td>\n",
       "      <td>221.98</td>\n",
       "      <td>2</td>\n",
       "      <td>0.0</td>\n",
       "      <td>62.15</td>\n",
       "      <td>40.77</td>\n",
       "      <td>High</td>\n",
       "    </tr>\n",
       "    <tr>\n",
       "      <th>1</th>\n",
       "      <td>26341</td>\n",
       "      <td>IN-2014-JR162107-41675</td>\n",
       "      <td>02-05-2014</td>\n",
       "      <td>02-07-2014</td>\n",
       "      <td>Second Class</td>\n",
       "      <td>JR-162107</td>\n",
       "      <td>Justin Ritter</td>\n",
       "      <td>Corporate</td>\n",
       "      <td>NaN</td>\n",
       "      <td>Wollongong</td>\n",
       "      <td>...</td>\n",
       "      <td>FUR-CH-5379</td>\n",
       "      <td>Furniture</td>\n",
       "      <td>Chairs</td>\n",
       "      <td>Novimex Executive Leather Armchair Black</td>\n",
       "      <td>3709.39</td>\n",
       "      <td>9</td>\n",
       "      <td>0.1</td>\n",
       "      <td>-288.77</td>\n",
       "      <td>923.63</td>\n",
       "      <td>Critical</td>\n",
       "    </tr>\n",
       "  </tbody>\n",
       "</table>\n",
       "<p>2 rows × 24 columns</p>\n",
       "</div>"
      ],
      "text/plain": [
       "   Row ID                  Order ID  Order Date   Ship Date     Ship Mode  \\\n",
       "0   40098  CA-2014-AB10015140-41954  11-11-2014  11-13-2014   First Class   \n",
       "1   26341    IN-2014-JR162107-41675  02-05-2014  02-07-2014  Second Class   \n",
       "\n",
       "    Customer ID  Customer Name    Segment  Postal Code           City  ...  \\\n",
       "0  AB-100151402  Aaron Bergman   Consumer      73120.0  Oklahoma City  ...   \n",
       "1     JR-162107  Justin Ritter  Corporate          NaN     Wollongong  ...   \n",
       "\n",
       "    Product ID    Category Sub-Category  \\\n",
       "0  TEC-PH-5816  Technology       Phones   \n",
       "1  FUR-CH-5379   Furniture       Chairs   \n",
       "\n",
       "                               Product Name    Sales Quantity Discount  \\\n",
       "0                          Samsung Convoy 3   221.98        2      0.0   \n",
       "1  Novimex Executive Leather Armchair Black  3709.39        9      0.1   \n",
       "\n",
       "   Profit  Shipping Cost  Order Priority  \n",
       "0   62.15          40.77            High  \n",
       "1 -288.77         923.63        Critical  \n",
       "\n",
       "[2 rows x 24 columns]"
      ]
     },
     "execution_count": 22,
     "metadata": {},
     "output_type": "execute_result"
    }
   ],
   "source": [
    "import pandasql as psql\n",
    "\n",
    "df = pd.DataFrame(data)\n",
    "\n",
    "result = psql.sqldf(\"SELECT * FROM df limit 2\")\n",
    "result"
   ]
  },
  {
   "cell_type": "code",
   "execution_count": 21,
   "id": "513d791f",
   "metadata": {},
   "outputs": [
    {
     "data": {
      "text/html": [
       "<div>\n",
       "<style scoped>\n",
       "    .dataframe tbody tr th:only-of-type {\n",
       "        vertical-align: middle;\n",
       "    }\n",
       "\n",
       "    .dataframe tbody tr th {\n",
       "        vertical-align: top;\n",
       "    }\n",
       "\n",
       "    .dataframe thead th {\n",
       "        text-align: right;\n",
       "    }\n",
       "</style>\n",
       "<table border=\"1\" class=\"dataframe\">\n",
       "  <thead>\n",
       "    <tr style=\"text-align: right;\">\n",
       "      <th></th>\n",
       "      <th>Product Name</th>\n",
       "      <th>TotalSales</th>\n",
       "    </tr>\n",
       "  </thead>\n",
       "  <tbody>\n",
       "    <tr>\n",
       "      <th>0</th>\n",
       "      <td>Apple Smart Phone Full Size</td>\n",
       "      <td>86935.79</td>\n",
       "    </tr>\n",
       "    <tr>\n",
       "      <th>1</th>\n",
       "      <td>Cisco Smart Phone Full Size</td>\n",
       "      <td>76441.53</td>\n",
       "    </tr>\n",
       "    <tr>\n",
       "      <th>2</th>\n",
       "      <td>Motorola Smart Phone Full Size</td>\n",
       "      <td>73156.32</td>\n",
       "    </tr>\n",
       "    <tr>\n",
       "      <th>3</th>\n",
       "      <td>Nokia Smart Phone Full Size</td>\n",
       "      <td>71904.56</td>\n",
       "    </tr>\n",
       "    <tr>\n",
       "      <th>4</th>\n",
       "      <td>Canon imageCLASS 2200 Advanced Copier</td>\n",
       "      <td>61599.83</td>\n",
       "    </tr>\n",
       "    <tr>\n",
       "      <th>5</th>\n",
       "      <td>Hon Executive Leather Armchair Adjustable</td>\n",
       "      <td>58193.51</td>\n",
       "    </tr>\n",
       "    <tr>\n",
       "      <th>6</th>\n",
       "      <td>Office Star Executive Leather Armchair Adjustable</td>\n",
       "      <td>50661.68</td>\n",
       "    </tr>\n",
       "    <tr>\n",
       "      <th>7</th>\n",
       "      <td>Harbour Creations Executive Leather Armchair A...</td>\n",
       "      <td>50121.52</td>\n",
       "    </tr>\n",
       "    <tr>\n",
       "      <th>8</th>\n",
       "      <td>Samsung Smart Phone Cordless</td>\n",
       "      <td>48653.46</td>\n",
       "    </tr>\n",
       "    <tr>\n",
       "      <th>9</th>\n",
       "      <td>Nokia Smart Phone with Caller ID</td>\n",
       "      <td>47877.80</td>\n",
       "    </tr>\n",
       "  </tbody>\n",
       "</table>\n",
       "</div>"
      ],
      "text/plain": [
       "                                        Product Name  TotalSales\n",
       "0                        Apple Smart Phone Full Size    86935.79\n",
       "1                        Cisco Smart Phone Full Size    76441.53\n",
       "2                     Motorola Smart Phone Full Size    73156.32\n",
       "3                        Nokia Smart Phone Full Size    71904.56\n",
       "4              Canon imageCLASS 2200 Advanced Copier    61599.83\n",
       "5          Hon Executive Leather Armchair Adjustable    58193.51\n",
       "6  Office Star Executive Leather Armchair Adjustable    50661.68\n",
       "7  Harbour Creations Executive Leather Armchair A...    50121.52\n",
       "8                       Samsung Smart Phone Cordless    48653.46\n",
       "9                   Nokia Smart Phone with Caller ID    47877.80"
      ]
     },
     "execution_count": 21,
     "metadata": {},
     "output_type": "execute_result"
    }
   ],
   "source": [
    "# Top-Selling Products:\n",
    "query = \"\"\"\n",
    "\n",
    "SELECT \"Product Name\", SUM(Sales) AS TotalSales\n",
    "\n",
    "FROM df\n",
    "\n",
    "GROUP BY \"Product Name\"\n",
    "\n",
    "ORDER BY TotalSales DESC\n",
    "\n",
    "LIMIT 10;\n",
    "\n",
    "\"\"\"\n",
    "\n",
    "result = psql. sqldf(query)\n",
    "result"
   ]
  },
  {
   "cell_type": "code",
   "execution_count": 27,
   "id": "4d529133",
   "metadata": {},
   "outputs": [
    {
     "data": {
      "text/html": [
       "<div>\n",
       "<style scoped>\n",
       "    .dataframe tbody tr th:only-of-type {\n",
       "        vertical-align: middle;\n",
       "    }\n",
       "\n",
       "    .dataframe tbody tr th {\n",
       "        vertical-align: top;\n",
       "    }\n",
       "\n",
       "    .dataframe thead th {\n",
       "        text-align: right;\n",
       "    }\n",
       "</style>\n",
       "<table border=\"1\" class=\"dataframe\">\n",
       "  <thead>\n",
       "    <tr style=\"text-align: right;\">\n",
       "      <th></th>\n",
       "      <th>Region</th>\n",
       "      <th>TotalSales</th>\n",
       "    </tr>\n",
       "  </thead>\n",
       "  <tbody>\n",
       "    <tr>\n",
       "      <th>0</th>\n",
       "      <td>Western Europe</td>\n",
       "      <td>1731930.39</td>\n",
       "    </tr>\n",
       "    <tr>\n",
       "      <th>1</th>\n",
       "      <td>Central America</td>\n",
       "      <td>1223100.79</td>\n",
       "    </tr>\n",
       "    <tr>\n",
       "      <th>2</th>\n",
       "      <td>Oceania</td>\n",
       "      <td>1100185.03</td>\n",
       "    </tr>\n",
       "    <tr>\n",
       "      <th>3</th>\n",
       "      <td>Southeastern Asia</td>\n",
       "      <td>884423.75</td>\n",
       "    </tr>\n",
       "    <tr>\n",
       "      <th>4</th>\n",
       "      <td>Southern Asia</td>\n",
       "      <td>866572.89</td>\n",
       "    </tr>\n",
       "  </tbody>\n",
       "</table>\n",
       "</div>"
      ],
      "text/plain": [
       "              Region  TotalSales\n",
       "0     Western Europe  1731930.39\n",
       "1    Central America  1223100.79\n",
       "2            Oceania  1100185.03\n",
       "3  Southeastern Asia   884423.75\n",
       "4      Southern Asia   866572.89"
      ]
     },
     "execution_count": 27,
     "metadata": {},
     "output_type": "execute_result"
    }
   ],
   "source": [
    "# Sales Performance by Region: \n",
    "query = \"\"\"\n",
    "SELECT Region, SUM(Sales) AS TotalSales\n",
    "FROM df\n",
    "GROUP BY Region\n",
    "ORDER BY TotalSales DESC\n",
    "LIMIT 5;\n",
    "\"\"\"\n",
    "result = psql.sqldf(query)\n",
    "result"
   ]
  },
  {
   "cell_type": "code",
   "execution_count": 36,
   "id": "7a27042d",
   "metadata": {},
   "outputs": [
    {
     "data": {
      "text/html": [
       "<div>\n",
       "<style scoped>\n",
       "    .dataframe tbody tr th:only-of-type {\n",
       "        vertical-align: middle;\n",
       "    }\n",
       "\n",
       "    .dataframe tbody tr th {\n",
       "        vertical-align: top;\n",
       "    }\n",
       "\n",
       "    .dataframe thead th {\n",
       "        text-align: right;\n",
       "    }\n",
       "</style>\n",
       "<table border=\"1\" class=\"dataframe\">\n",
       "  <thead>\n",
       "    <tr style=\"text-align: right;\">\n",
       "      <th></th>\n",
       "      <th>Customer Name</th>\n",
       "      <th>NumberOfOrders</th>\n",
       "      <th>TotalSales</th>\n",
       "    </tr>\n",
       "  </thead>\n",
       "  <tbody>\n",
       "    <tr>\n",
       "      <th>0</th>\n",
       "      <td>Tom Ashbrook</td>\n",
       "      <td>80</td>\n",
       "      <td>40488.09</td>\n",
       "    </tr>\n",
       "    <tr>\n",
       "      <th>1</th>\n",
       "      <td>Tamara Chand</td>\n",
       "      <td>88</td>\n",
       "      <td>37457.33</td>\n",
       "    </tr>\n",
       "    <tr>\n",
       "      <th>2</th>\n",
       "      <td>Greg Tran</td>\n",
       "      <td>87</td>\n",
       "      <td>35550.95</td>\n",
       "    </tr>\n",
       "    <tr>\n",
       "      <th>3</th>\n",
       "      <td>Christopher Conant</td>\n",
       "      <td>73</td>\n",
       "      <td>35187.08</td>\n",
       "    </tr>\n",
       "    <tr>\n",
       "      <th>4</th>\n",
       "      <td>Sean Miller</td>\n",
       "      <td>50</td>\n",
       "      <td>35170.96</td>\n",
       "    </tr>\n",
       "    <tr>\n",
       "      <th>5</th>\n",
       "      <td>Bart Watters</td>\n",
       "      <td>96</td>\n",
       "      <td>32310.45</td>\n",
       "    </tr>\n",
       "    <tr>\n",
       "      <th>6</th>\n",
       "      <td>Natalie Fritzler</td>\n",
       "      <td>95</td>\n",
       "      <td>31781.29</td>\n",
       "    </tr>\n",
       "    <tr>\n",
       "      <th>7</th>\n",
       "      <td>Fred Hopkins</td>\n",
       "      <td>82</td>\n",
       "      <td>30400.69</td>\n",
       "    </tr>\n",
       "    <tr>\n",
       "      <th>8</th>\n",
       "      <td>Jane Waco</td>\n",
       "      <td>75</td>\n",
       "      <td>30288.46</td>\n",
       "    </tr>\n",
       "    <tr>\n",
       "      <th>9</th>\n",
       "      <td>Hunter Lopez</td>\n",
       "      <td>53</td>\n",
       "      <td>30243.59</td>\n",
       "    </tr>\n",
       "  </tbody>\n",
       "</table>\n",
       "</div>"
      ],
      "text/plain": [
       "        Customer Name  NumberOfOrders  TotalSales\n",
       "0        Tom Ashbrook              80    40488.09\n",
       "1        Tamara Chand              88    37457.33\n",
       "2           Greg Tran              87    35550.95\n",
       "3  Christopher Conant              73    35187.08\n",
       "4         Sean Miller              50    35170.96\n",
       "5        Bart Watters              96    32310.45\n",
       "6    Natalie Fritzler              95    31781.29\n",
       "7        Fred Hopkins              82    30400.69\n",
       "8           Jane Waco              75    30288.46\n",
       "9        Hunter Lopez              53    30243.59"
      ]
     },
     "execution_count": 36,
     "metadata": {},
     "output_type": "execute_result"
    }
   ],
   "source": [
    "# Customer Purchasing Behavior:\n",
    "query = \"\"\"\n",
    "SELECT \"Customer Name\", COUNT(\"OrderID\") AS NumberOfOrders, SUM(Sales) AS TotalSales\n",
    "FROM df\n",
    "GROUP BY \"Customer Name\"\n",
    "ORDER BY TotalSales DESC\n",
    "LIMIT 10;\"\"\"\n",
    "result = psql.sqldf(query)\n",
    "result"
   ]
  },
  {
   "cell_type": "markdown",
   "id": "1d859793",
   "metadata": {},
   "source": [
    "# Data Visualization using matplotlib and seaborn module of python"
   ]
  },
  {
   "cell_type": "raw",
   "id": "15be43b4",
   "metadata": {},
   "source": [
    "Analysis and Visualizations:\n",
    "\n",
    "Top-Selling Products: Include the bar plot and interpretation.\n",
    "Sales Performance by Region: Include the bar plot and interpretation.\n",
    "Monthly Sales Trends: Include the line plot and interpretation.\n",
    "Customer Purchasing Behavior: Include the bar plot and interpretation."
   ]
  },
  {
   "cell_type": "code",
   "execution_count": 47,
   "id": "47a35bb0",
   "metadata": {},
   "outputs": [
    {
     "data": {
      "image/png": "[encoded data removed]",
      "text/plain": [
       "<Figure size 864x432 with 1 Axes>"
      ]
     },
     "metadata": {
      "needs_background": "light"
     },
     "output_type": "display_data"
    }
   ],
   "source": [
    "# Top-Selling Products\n",
    "\n",
    "top_selling_products = df.groupby('Product Name')['Sales'].sum().sort_values(ascending=False).head(10)\n",
    "\n",
    "plt.figure(figsize=(12, 6))\n",
    "sns.barplot(x=top_selling_products.values, y=top_selling_products.index, palette=\"viridis\")\n",
    "plt.title('Top 10 Selling Products by Total Sales')\n",
    "plt.xlabel('Total Sales')\n",
    "plt.ylabel('Product Name')\n",
    "plt.show()"
   ]
  },
  {
   "cell_type": "code",
   "execution_count": 48,
   "id": "034209b4",
   "metadata": {},
   "outputs": [
    {
     "data": {
      "image/png": "[encoded data removed]",
      "text/plain": [
       "<Figure size 864x432 with 1 Axes>"
      ]
     },
     "metadata": {
      "needs_background": "light"
     },
     "output_type": "display_data"
    }
   ],
   "source": [
    "# Sales Performance by Region\n",
    "sales_by_region = df.groupby('Region')['Sales'].sum().sort_values(ascending=False)\n",
    "\n",
    "plt.figure(figsize=(12, 6))\n",
    "sns.barplot(x=sales_by_region.values, y=sales_by_region.index, palette=\"magma\")\n",
    "plt.title('Sales Performance by Region')\n",
    "plt.xlabel('Total Sales')\n",
    "plt.ylabel('Region')\n",
    "plt.show()"
   ]
  },
  {
   "cell_type": "code",
   "execution_count": 65,
   "id": "a379718b",
   "metadata": {},
   "outputs": [
    {
     "data": {
      "image/png": "[encoded data removed]",
      "text/plain": [
       "<Figure size 864x432 with 1 Axes>"
      ]
     },
     "metadata": {
      "needs_background": "light"
     },
     "output_type": "display_data"
    }
   ],
   "source": [
    "# Monthly Sales Trends\n",
    "monthly_sales_trends = df.groupby(data['Order Date'].dt.to_period('M'))['Sales'].sum()\n",
    "\n",
    "plt.figure(figsize=(12, 6))\n",
    "monthly_sales_trends.plot(kind='line', marker='o', color='blue')\n",
    "plt.title('Monthly Sales Trends')\n",
    "plt.xlabel('Month')\n",
    "plt.ylabel('Total Sales')\n",
    "plt.xticks(rotation=45)\n",
    "plt.grid(True)\n",
    "plt.show()"
   ]
  },
  {
   "cell_type": "code",
   "execution_count": 66,
   "id": "eede20db",
   "metadata": {},
   "outputs": [
    {
     "data": {
      "image/png": "[encoded data removed]",
      "text/plain": [
       "<Figure size 864x432 with 1 Axes>"
      ]
     },
     "metadata": {
      "needs_background": "light"
     },
     "output_type": "display_data"
    }
   ],
   "source": [
    "# Customer Purchasing Behavior\n",
    "customer_purchasing_behavior = df.groupby('Customer Name').agg({'Order ID': 'count', 'Sales': 'sum'}).sort_values(by='Sales', ascending=False).head(10)\n",
    "\n",
    "plt.figure(figsize=(12, 6))\n",
    "sns.barplot(x=customer_purchasing_behavior['Sales'], y=customer_purchasing_behavior.index, palette=\"coolwarm\")\n",
    "plt.title('Top 10 Customers by Total Sales')\n",
    "plt.xlabel('Total Sales')\n",
    "plt.ylabel('Customer Name')\n",
    "plt.show()"
   ]
  },
  {
   "cell_type": "markdown",
   "id": "e20d8ec6",
   "metadata": {},
   "source": [
    "Conclusion\n",
    "Summary of Findings:\n",
    "\n",
    "Identified top 10 products by total sales.\n",
    "Regions with the highest and lowest sales performance.\n",
    "Monthly sales trends showed peak sales in certain months.\n",
    "Top customers contributed significantly to total sales.\n",
    "\n",
    "Recommendations:\n",
    "\n",
    "Focus marketing efforts on top-selling products and high-performing regions.\n",
    "Investigate reasons for low sales in certain regions and develop strategies to improve.\n",
    "Leverage peak sales months for promotional activities.\n",
    "\n",
    "Future Work:\n",
    "\n",
    "Conduct more detailed analysis on customer segmentation.\n",
    "Integrate additional data sources for a more comprehensive analysis."
   ]
  },
  {
   "cell_type": "code",
   "execution_count": null,
   "id": "8cad0607",
   "metadata": {},
   "outputs": [],
   "source": []
  }
 ],
 "metadata": {
  "kernelspec": {
   "display_name": "Python 3 (ipykernel)",
   "language": "python",
   "name": "python3"
  },
  "language_info": {
   "codemirror_mode": {
    "name": "ipython",
    "version": 3
   },
   "file_extension": ".py",
   "mimetype": "text/x-python",
   "name": "python",
   "nbconvert_exporter": "python",
   "pygments_lexer": "ipython3",
   "version": "3.9.7"
  }
 },
 "nbformat": 4,
 "nbformat_minor": 5
}
